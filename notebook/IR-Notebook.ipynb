{
 "cells": [
  {
   "cell_type": "markdown",
   "metadata": {},
   "source": [
    "## Setup Environment"
   ]
  },
  {
   "cell_type": "code",
   "execution_count": null,
   "metadata": {},
   "outputs": [],
   "source": [
    "# load required packages\n",
    "\n",
    "# for creating dataframes from csv datasets\n",
    "import pandas as pd\n",
    "\n",
    "# kaggle - data set files are available in the \"../input/\" directory\n",
    "dataset_dir = \"../input/\"\n",
    "dataset_dir_questions = \"Questions.csv\"\n",
    "dataset_dir_answers = \"Answers.csv\"\n",
    "dataset_dir_tags = \"Tags.csv\"\n",
    "\n",
    "# for offline run\n",
    "# dataset_dir = \"/home/su/Downloads/stacksample\"\n",
    "\n",
    "# list the files in the dataset directory\n",
    "from subprocess import check_output\n",
    "print(check_output([\"ls\", dataset_dir]).decode(\"utf8\"))"
   ]
  },
  {
   "cell_type": "markdown",
   "metadata": {},
   "source": [
    "## pandas - load CSV into dataframe"
   ]
  },
  {
   "cell_type": "code",
   "execution_count": null,
   "metadata": {
    "collapsed": true
   },
   "outputs": [],
   "source": [
    "questions_df = pd.read_csv(dataset_dir+dataset_dir_questions, encoding='latin1')\n",
    "answers_df = pd.read_csv(dataset_dir+dataset_dir_answers, encoding='latin1')\n",
    "tags_df = pd.read_csv(dataset_dir+dataset_dir_tags, encoding='latin1')\n",
    "\n",
    "# Sample dataframe - uncomment to view\n",
    "# questions_df\n",
    "# answers_df\n",
    "# tags_df"
   ]
  }
 ],
 "metadata": {
  "kernelspec": {
   "display_name": "Python 3",
   "language": "python",
   "name": "python3"
  },
  "language_info": {
   "codemirror_mode": {
    "name": "ipython",
    "version": 3
   },
   "file_extension": ".py",
   "mimetype": "text/x-python",
   "name": "python",
   "nbconvert_exporter": "python",
   "pygments_lexer": "ipython3",
   "version": "3.6.1"
  }
 },
 "nbformat": 4,
 "nbformat_minor": 2
}

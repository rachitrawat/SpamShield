{
 "cells": [
  {
   "cell_type": "markdown",
   "metadata": {
    "_cell_guid": "8f4aa826-8c88-4323-86f5-623ec4cfb9c1",
    "_uuid": "e04c72c962d9cdfc604a61b1ee23bd46f53661a7"
   },
   "source": [
    "** Objective: ** \n",
    "** To develop a statistical model for predicting whether questions will be upvoted, downvoted, or closed based on their text. ** \n",
    "** To predict how long questions will take to answer. **\n",
    "\n",
    "** Authors: Rachit Rawat, Rudradeep Guha, Vineet Nandkishore **"
   ]
  },
  {
   "cell_type": "markdown",
   "metadata": {
    "_cell_guid": "68edf668-861d-40f3-b0b6-d09ceb866a13",
    "_uuid": "315c15cd0dd3ccc54e4446934916313068ada317"
   },
   "source": [
    "** Setup Environment **"
   ]
  },
  {
   "cell_type": "code",
   "execution_count": 1,
   "metadata": {
    "_active": false,
    "_cell_guid": "2f3cc812-f944-6471-f7a3-cc2894482010",
    "_uuid": "738b617fca8b49b678e3b9c70f7b272564eff0b2"
   },
   "outputs": [
    {
     "name": "stdout",
     "output_type": "stream",
     "text": [
      "Answers.csv\n",
      "Questions.csv\n",
      "Tags.csv\n",
      "\n"
     ]
    }
   ],
   "source": [
    "# load required packages\n",
    "\n",
    "# for creating dataframes from csv datasets\n",
    "import pandas as pd\n",
    "\n",
    "# for stripping stop words\n",
    "from nltk.corpus import stopwords\n",
    "\n",
    "# for TF-IDF\n",
    "import math\n",
    "from textblob import TextBlob as tb\n",
    "\n",
    "# for removing HTML tags from text body\n",
    "from html.parser import HTMLParser\n",
    "\n",
    "# for counting\n",
    "import collections\n",
    "\n",
    "# for scientific computing\n",
    "import numpy as np\n",
    "import math\n",
    "\n",
    "# for plotting graphs\n",
    "import matplotlib.pyplot as plt\n",
    "import matplotlib.cm as cm\n",
    "# magic function\n",
    "%matplotlib inline\n",
    "\n",
    "# kaggle - data set files are available in the \"../input/\" directory\n",
    "dataset_dir = \"../input/\"\n",
    "dataset_dir_questions = \"Questions.csv\"\n",
    "dataset_dir_answers = \"Answers.csv\"\n",
    "dataset_dir_tags = \"Tags.csv\"\n",
    "\n",
    "# for offline run\n",
    "# dataset_dir = \"/home/su/Downloads/stacksample\"\n",
    "\n",
    "# list the files in the dataset directory\n",
    "from subprocess import check_output\n",
    "print(check_output([\"ls\", dataset_dir]).decode(\"utf8\"))\n",
    "\n",
    "cachedStopWords = stopwords.words(\"english\")\n",
    "\n"
   ]
  },
  {
   "cell_type": "markdown",
   "metadata": {
    "_cell_guid": "bf416f93-b382-45f4-8d8f-7665d2e56ba8",
    "_uuid": "daa792f1113572ee69d54458edc6308f281a61c9"
   },
   "source": [
    "** HTML tags Stripper class **"
   ]
  },
  {
   "cell_type": "code",
   "execution_count": 2,
   "metadata": {
    "_cell_guid": "bddb2f84-5616-4abd-90b0-5211e6c3ab05",
    "_uuid": "9e8575730117592534ae5bb427eb71f5b64dcca0",
    "collapsed": true
   },
   "outputs": [],
   "source": [
    "class MLStripper(HTMLParser):\n",
    "    def __init__(self):\n",
    "        self.reset()\n",
    "        self.strict = False\n",
    "        self.convert_charrefs= True\n",
    "        self.fed = []\n",
    "    def handle_data(self, d):\n",
    "        self.fed.append(d)\n",
    "    def get_data(self):\n",
    "        return ''.join(self.fed)\n",
    "\n",
    "def strip_tags(html):\n",
    "    s = MLStripper()\n",
    "    s.feed(html)\n",
    "    return s.get_data()"
   ]
  },
  {
   "cell_type": "markdown",
   "metadata": {
    "_cell_guid": "5f92be6e-b5f6-4c3c-a66c-ead9a1d91838",
    "_uuid": "b6c01c8410eea1077cab7bb41980f59b453af8ee"
   },
   "source": [
    "** TF-IDF helper fucntions **"
   ]
  },
  {
   "cell_type": "code",
   "execution_count": 3,
   "metadata": {
    "_cell_guid": "bbc860ac-d845-47eb-9492-50d7cd2cf56b",
    "_uuid": "0f25bcb2bbaeed423173739009723f46c0f23106",
    "collapsed": true
   },
   "outputs": [],
   "source": [
    "# tf(word, blob) computes \"term frequency\" which is the number of times \n",
    "# a word appears in a document blob,normalized by dividing by \n",
    "# the total number of words in blob. \n",
    "# We use TextBlob for breaking up the text into words and getting the word counts.\n",
    "def tf(word, blob):\n",
    "    return blob.words.count(word) / len(blob.words)\n",
    "\n",
    "# n_containing(word, bloblist) returns the number of documents containing word.\n",
    "# A generator expression is passed to the sum() function.\n",
    "def n_containing(word, bloblist):\n",
    "    return sum(1 for blob in bloblist if word in blob.words)\n",
    "\n",
    "# idf(word, bloblist) computes \"inverse document frequency\" which measures how common \n",
    "# a word is among all documents in bloblist. \n",
    "# The more common a word is, the lower its idf. \n",
    "# We take the ratio of the total number of documents \n",
    "# to the number of documents containing word, then take the log of that. \n",
    "# Add 1 to the divisor to prevent division by zero.\n",
    "def idf(word, bloblist):\n",
    "    return math.log(len(bloblist) / (1 + n_containing(word, bloblist)))\n",
    "\n",
    "# tfidf(word, blob, bloblist) computes the TF-IDF score. \n",
    "# It is simply the product of tf and idf.\n",
    "def tfidf(word, blob, bloblist):\n",
    "    return tf(word, blob) * idf(word, bloblist)"
   ]
  },
  {
   "cell_type": "markdown",
   "metadata": {
    "_active": true,
    "_cell_guid": "4bb24fa7-fa47-c351-bebe-d6ca025696fb",
    "_uuid": "dc0f25079efd80085f22006b059b99291f50c974"
   },
   "source": [
    "** pandas - load CSV into dataframe **\n"
   ]
  },
  {
   "cell_type": "code",
   "execution_count": 4,
   "metadata": {
    "_active": false,
    "_cell_guid": "6443555a-49dd-1457-22cf-6e09fe9a6798",
    "_uuid": "a422f0c759254e4c9068ae062ef186df73947bb6",
    "collapsed": true
   },
   "outputs": [],
   "source": [
    "# Read CSV\n",
    "\n",
    "# Original Dimensionality - (rows, columns)\n",
    "\n",
    "# (1264216, 7) \n",
    "# Columns (Id, OwnerUserId, CreationDate, ClosedDate, Score, Title, Body)\n",
    "# frame every 100th question (resource restraints)\n",
    "questions_df = pd.read_csv(dataset_dir+dataset_dir_questions, encoding='latin1').iloc[::100, :]\n",
    "\n",
    "# (2014516, 6)\n",
    "# Columns (Id, OwnerUserId, CreationDate, ParentId, Score, Body)\n",
    "# frame every 100th answer (resource restraints)\n",
    "answers_df = pd.read_csv(dataset_dir+dataset_dir_answers, encoding='latin1').iloc[::100, :]\n",
    "\n",
    "# (3750994, 2)\n",
    "# Columns (Id, Tag)\n",
    "# frame every 100th tag (resource restraints)\n",
    "tags_df = pd.read_csv(dataset_dir+dataset_dir_tags, encoding='latin1').iloc[::100, :]"
   ]
  },
  {
   "cell_type": "markdown",
   "metadata": {
    "_cell_guid": "f55dafc0-9c39-4779-9284-c353fbe60502",
    "_uuid": "02ffa6c0c8ffa27470fd4db06f3e249127425818"
   },
   "source": [
    "** Sample dataframe before stripping **"
   ]
  },
  {
   "cell_type": "code",
   "execution_count": 5,
   "metadata": {
    "_cell_guid": "a45e1e38-9442-41dd-8b6d-27fe8a228b1a",
    "_uuid": "50860684ebdf70a683f969ab09dcb69f591f803d"
   },
   "outputs": [
    {
     "data": {
      "text/html": [
       "<div>\n",
       "<style>\n",
       "    .dataframe thead tr:only-child th {\n",
       "        text-align: right;\n",
       "    }\n",
       "\n",
       "    .dataframe thead th {\n",
       "        text-align: left;\n",
       "    }\n",
       "\n",
       "    .dataframe tbody tr th {\n",
       "        vertical-align: top;\n",
       "    }\n",
       "</style>\n",
       "<table border=\"1\" class=\"dataframe\">\n",
       "  <thead>\n",
       "    <tr style=\"text-align: right;\">\n",
       "      <th></th>\n",
       "      <th>Id</th>\n",
       "      <th>OwnerUserId</th>\n",
       "      <th>CreationDate</th>\n",
       "      <th>ClosedDate</th>\n",
       "      <th>Score</th>\n",
       "      <th>Title</th>\n",
       "      <th>Body</th>\n",
       "    </tr>\n",
       "  </thead>\n",
       "  <tbody>\n",
       "    <tr>\n",
       "      <th>0</th>\n",
       "      <td>80</td>\n",
       "      <td>26.0</td>\n",
       "      <td>2008-08-01T13:57:07Z</td>\n",
       "      <td>NaN</td>\n",
       "      <td>26</td>\n",
       "      <td>SQLStatement.execute() - multiple queries in o...</td>\n",
       "      <td>&lt;p&gt;I've written a database generation script i...</td>\n",
       "    </tr>\n",
       "    <tr>\n",
       "      <th>100</th>\n",
       "      <td>10260</td>\n",
       "      <td>203.0</td>\n",
       "      <td>2008-08-13T19:18:07Z</td>\n",
       "      <td>NaN</td>\n",
       "      <td>6</td>\n",
       "      <td>What are the useful new ASP.NET features in th...</td>\n",
       "      <td>&lt;p&gt;I've kept up to date with new features in t...</td>\n",
       "    </tr>\n",
       "    <tr>\n",
       "      <th>200</th>\n",
       "      <td>18450</td>\n",
       "      <td>2018.0</td>\n",
       "      <td>2008-08-20T17:57:44Z</td>\n",
       "      <td>2015-06-09T19:54:59Z</td>\n",
       "      <td>307</td>\n",
       "      <td>Is Mono ready for prime time?</td>\n",
       "      <td>&lt;p&gt;Has anyone used Mono, the open source .NET ...</td>\n",
       "    </tr>\n",
       "    <tr>\n",
       "      <th>300</th>\n",
       "      <td>29100</td>\n",
       "      <td>NaN</td>\n",
       "      <td>2008-08-26T22:28:22Z</td>\n",
       "      <td>NaN</td>\n",
       "      <td>5</td>\n",
       "      <td>How are you generating tests from specifications?</td>\n",
       "      <td>&lt;p&gt;I came across a printed &lt;a href=\"http://www...</td>\n",
       "    </tr>\n",
       "    <tr>\n",
       "      <th>400</th>\n",
       "      <td>36030</td>\n",
       "      <td>3750.0</td>\n",
       "      <td>2008-08-30T15:15:01Z</td>\n",
       "      <td>NaN</td>\n",
       "      <td>0</td>\n",
       "      <td>Yaws uses old config file</td>\n",
       "      <td>&lt;p&gt;I'm developing a web app on Yaws 1.65 (inst...</td>\n",
       "    </tr>\n",
       "    <tr>\n",
       "      <th>500</th>\n",
       "      <td>44780</td>\n",
       "      <td>3475.0</td>\n",
       "      <td>2008-09-04T21:05:31Z</td>\n",
       "      <td>NaN</td>\n",
       "      <td>2</td>\n",
       "      <td>What's the best way to implement a SQL script ...</td>\n",
       "      <td>&lt;p&gt;What's the best way to implement a SQL scri...</td>\n",
       "    </tr>\n",
       "    <tr>\n",
       "      <th>600</th>\n",
       "      <td>52430</td>\n",
       "      <td>5201.0</td>\n",
       "      <td>2008-09-09T17:33:28Z</td>\n",
       "      <td>NaN</td>\n",
       "      <td>0</td>\n",
       "      <td>SQL Server best way to calculate datediff betw...</td>\n",
       "      <td>&lt;p&gt;I've got the following rough structure:&lt;/p&gt;...</td>\n",
       "    </tr>\n",
       "    <tr>\n",
       "      <th>700</th>\n",
       "      <td>59380</td>\n",
       "      <td>6140.0</td>\n",
       "      <td>2008-09-12T15:50:38Z</td>\n",
       "      <td>NaN</td>\n",
       "      <td>4</td>\n",
       "      <td>Wildcard Subdomain Exceptions</td>\n",
       "      <td>&lt;p&gt;I have a wildcard subdomain enabled and dyn...</td>\n",
       "    </tr>\n",
       "    <tr>\n",
       "      <th>800</th>\n",
       "      <td>65800</td>\n",
       "      <td>1115144.0</td>\n",
       "      <td>2008-09-15T19:10:13Z</td>\n",
       "      <td>2013-10-27T22:48:48Z</td>\n",
       "      <td>12</td>\n",
       "      <td>What's the best HTML WYSISYG editor available ...</td>\n",
       "      <td>&lt;p&gt;There are many different flavored HTML WYSI...</td>\n",
       "    </tr>\n",
       "    <tr>\n",
       "      <th>900</th>\n",
       "      <td>74190</td>\n",
       "      <td>12872.0</td>\n",
       "      <td>2008-09-16T16:22:29Z</td>\n",
       "      <td>NaN</td>\n",
       "      <td>3</td>\n",
       "      <td>Can you have more than one ASP.NET State Serve...</td>\n",
       "      <td>&lt;p&gt;We have a 4 server cluster running ASP.NET ...</td>\n",
       "    </tr>\n",
       "  </tbody>\n",
       "</table>\n",
       "</div>"
      ],
      "text/plain": [
       "        Id  OwnerUserId          CreationDate            ClosedDate  Score  \\\n",
       "0       80         26.0  2008-08-01T13:57:07Z                   NaN     26   \n",
       "100  10260        203.0  2008-08-13T19:18:07Z                   NaN      6   \n",
       "200  18450       2018.0  2008-08-20T17:57:44Z  2015-06-09T19:54:59Z    307   \n",
       "300  29100          NaN  2008-08-26T22:28:22Z                   NaN      5   \n",
       "400  36030       3750.0  2008-08-30T15:15:01Z                   NaN      0   \n",
       "500  44780       3475.0  2008-09-04T21:05:31Z                   NaN      2   \n",
       "600  52430       5201.0  2008-09-09T17:33:28Z                   NaN      0   \n",
       "700  59380       6140.0  2008-09-12T15:50:38Z                   NaN      4   \n",
       "800  65800    1115144.0  2008-09-15T19:10:13Z  2013-10-27T22:48:48Z     12   \n",
       "900  74190      12872.0  2008-09-16T16:22:29Z                   NaN      3   \n",
       "\n",
       "                                                 Title  \\\n",
       "0    SQLStatement.execute() - multiple queries in o...   \n",
       "100  What are the useful new ASP.NET features in th...   \n",
       "200                      Is Mono ready for prime time?   \n",
       "300  How are you generating tests from specifications?   \n",
       "400                          Yaws uses old config file   \n",
       "500  What's the best way to implement a SQL script ...   \n",
       "600  SQL Server best way to calculate datediff betw...   \n",
       "700                      Wildcard Subdomain Exceptions   \n",
       "800  What's the best HTML WYSISYG editor available ...   \n",
       "900  Can you have more than one ASP.NET State Serve...   \n",
       "\n",
       "                                                  Body  \n",
       "0    <p>I've written a database generation script i...  \n",
       "100  <p>I've kept up to date with new features in t...  \n",
       "200  <p>Has anyone used Mono, the open source .NET ...  \n",
       "300  <p>I came across a printed <a href=\"http://www...  \n",
       "400  <p>I'm developing a web app on Yaws 1.65 (inst...  \n",
       "500  <p>What's the best way to implement a SQL scri...  \n",
       "600  <p>I've got the following rough structure:</p>...  \n",
       "700  <p>I have a wildcard subdomain enabled and dyn...  \n",
       "800  <p>There are many different flavored HTML WYSI...  \n",
       "900  <p>We have a 4 server cluster running ASP.NET ...  "
      ]
     },
     "execution_count": 5,
     "metadata": {},
     "output_type": "execute_result"
    }
   ],
   "source": [
    "# Calculate dimensionality\n",
    "# questions_df.shape \n",
    "# answers_df.shape \n",
    "# tags_df.shape \n",
    "\n",
    "# Sample dataframe - uncomment to view\n",
    "questions_df.head(10) \n",
    "# answers_df.head(10)\n",
    "# tags_df.head(10) "
   ]
  },
  {
   "cell_type": "markdown",
   "metadata": {
    "_cell_guid": "e11c5eb7-3399-48e4-8c19-9bc073390272",
    "_uuid": "fd95a0589a0bdf22c03b7f3fdb0efbf707fb0cd8"
   },
   "source": [
    "** Strip HTML tags and stop words from text body **"
   ]
  },
  {
   "cell_type": "code",
   "execution_count": 6,
   "metadata": {
    "_cell_guid": "91d123fe-3d1b-45a3-907e-d1eca1925d6c",
    "_uuid": "5723a2e056bc00fc2973e5928f212ad74bbd07a8",
    "collapsed": true
   },
   "outputs": [],
   "source": [
    " # Remove HTML tags and stop words from body and title column\n",
    "for index, row in questions_df.iterrows():\n",
    "    questions_df.at[index, 'Body']= ' '.join([word for word in strip_tags(row[6]).split() if word not in cachedStopWords])\n",
    "    questions_df.at[index, 'Title']= ' '.join([word for word in strip_tags(row[5]).split() if word not in cachedStopWords])\n",
    "\n",
    "# Remove HTML tags and stop words from body column\n",
    "for index, row in answers_df.iterrows():\n",
    "    answers_df.at[index, 'Body']= ' '.join([word for word in strip_tags(row[5]).split() if word not in cachedStopWords]) "
   ]
  },
  {
   "cell_type": "markdown",
   "metadata": {
    "_cell_guid": "44c8687c-7b3b-48c8-81c9-0038d4a672a8",
    "_uuid": "7913ddfa6a5c335641a4311189509e17368e1fe5"
   },
   "source": [
    "** Sample dataframe after stripping **"
   ]
  },
  {
   "cell_type": "code",
   "execution_count": 7,
   "metadata": {
    "_cell_guid": "acc88448-90fa-4fdd-a95e-af538becaeea",
    "_uuid": "45c5fb411d16418c06c0e1ee04edee51cac9295f"
   },
   "outputs": [
    {
     "data": {
      "text/html": [
       "<div>\n",
       "<style>\n",
       "    .dataframe thead tr:only-child th {\n",
       "        text-align: right;\n",
       "    }\n",
       "\n",
       "    .dataframe thead th {\n",
       "        text-align: left;\n",
       "    }\n",
       "\n",
       "    .dataframe tbody tr th {\n",
       "        vertical-align: top;\n",
       "    }\n",
       "</style>\n",
       "<table border=\"1\" class=\"dataframe\">\n",
       "  <thead>\n",
       "    <tr style=\"text-align: right;\">\n",
       "      <th></th>\n",
       "      <th>Id</th>\n",
       "      <th>OwnerUserId</th>\n",
       "      <th>CreationDate</th>\n",
       "      <th>ClosedDate</th>\n",
       "      <th>Score</th>\n",
       "      <th>Title</th>\n",
       "      <th>Body</th>\n",
       "    </tr>\n",
       "  </thead>\n",
       "  <tbody>\n",
       "    <tr>\n",
       "      <th>0</th>\n",
       "      <td>80</td>\n",
       "      <td>26.0</td>\n",
       "      <td>2008-08-01T13:57:07Z</td>\n",
       "      <td>NaN</td>\n",
       "      <td>26</td>\n",
       "      <td>SQLStatement.execute() - multiple queries one ...</td>\n",
       "      <td>I've written database generation script SQL wa...</td>\n",
       "    </tr>\n",
       "    <tr>\n",
       "      <th>100</th>\n",
       "      <td>10260</td>\n",
       "      <td>203.0</td>\n",
       "      <td>2008-08-13T19:18:07Z</td>\n",
       "      <td>NaN</td>\n",
       "      <td>6</td>\n",
       "      <td>What useful new ASP.NET features .NET Framewor...</td>\n",
       "      <td>I've kept date new features C# language it's m...</td>\n",
       "    </tr>\n",
       "    <tr>\n",
       "      <th>200</th>\n",
       "      <td>18450</td>\n",
       "      <td>2018.0</td>\n",
       "      <td>2008-08-20T17:57:44Z</td>\n",
       "      <td>2015-06-09T19:54:59Z</td>\n",
       "      <td>307</td>\n",
       "      <td>Is Mono ready prime time?</td>\n",
       "      <td>Has anyone used Mono, open source .NET impleme...</td>\n",
       "    </tr>\n",
       "    <tr>\n",
       "      <th>300</th>\n",
       "      <td>29100</td>\n",
       "      <td>NaN</td>\n",
       "      <td>2008-08-26T22:28:22Z</td>\n",
       "      <td>NaN</td>\n",
       "      <td>5</td>\n",
       "      <td>How generating tests specifications?</td>\n",
       "      <td>I came across printed article Bertrand Meyer s...</td>\n",
       "    </tr>\n",
       "    <tr>\n",
       "      <th>400</th>\n",
       "      <td>36030</td>\n",
       "      <td>3750.0</td>\n",
       "      <td>2008-08-30T15:15:01Z</td>\n",
       "      <td>NaN</td>\n",
       "      <td>0</td>\n",
       "      <td>Yaws uses old config file</td>\n",
       "      <td>I'm developing web app Yaws 1.65 (installed ap...</td>\n",
       "    </tr>\n",
       "    <tr>\n",
       "      <th>500</th>\n",
       "      <td>44780</td>\n",
       "      <td>3475.0</td>\n",
       "      <td>2008-09-04T21:05:31Z</td>\n",
       "      <td>NaN</td>\n",
       "      <td>2</td>\n",
       "      <td>What's best way implement SQL script grant per...</td>\n",
       "      <td>What's best way implement SQL script grant sel...</td>\n",
       "    </tr>\n",
       "    <tr>\n",
       "      <th>600</th>\n",
       "      <td>52430</td>\n",
       "      <td>5201.0</td>\n",
       "      <td>2008-09-09T17:33:28Z</td>\n",
       "      <td>NaN</td>\n",
       "      <td>0</td>\n",
       "      <td>SQL Server best way calculate datediff current...</td>\n",
       "      <td>I've got following rough structure: Object -&gt; ...</td>\n",
       "    </tr>\n",
       "    <tr>\n",
       "      <th>700</th>\n",
       "      <td>59380</td>\n",
       "      <td>6140.0</td>\n",
       "      <td>2008-09-12T15:50:38Z</td>\n",
       "      <td>NaN</td>\n",
       "      <td>4</td>\n",
       "      <td>Wildcard Subdomain Exceptions</td>\n",
       "      <td>I wildcard subdomain enabled dynamically parse...</td>\n",
       "    </tr>\n",
       "    <tr>\n",
       "      <th>800</th>\n",
       "      <td>65800</td>\n",
       "      <td>1115144.0</td>\n",
       "      <td>2008-09-15T19:10:13Z</td>\n",
       "      <td>2013-10-27T22:48:48Z</td>\n",
       "      <td>12</td>\n",
       "      <td>What's best HTML WYSISYG editor available web ...</td>\n",
       "      <td>There many different flavored HTML WYSIWYG edi...</td>\n",
       "    </tr>\n",
       "    <tr>\n",
       "      <th>900</th>\n",
       "      <td>74190</td>\n",
       "      <td>12872.0</td>\n",
       "      <td>2008-09-16T16:22:29Z</td>\n",
       "      <td>NaN</td>\n",
       "      <td>3</td>\n",
       "      <td>Can one ASP.NET State Server Service cluster?</td>\n",
       "      <td>We 4 server cluster running ASP.NET web applic...</td>\n",
       "    </tr>\n",
       "  </tbody>\n",
       "</table>\n",
       "</div>"
      ],
      "text/plain": [
       "        Id  OwnerUserId          CreationDate            ClosedDate  Score  \\\n",
       "0       80         26.0  2008-08-01T13:57:07Z                   NaN     26   \n",
       "100  10260        203.0  2008-08-13T19:18:07Z                   NaN      6   \n",
       "200  18450       2018.0  2008-08-20T17:57:44Z  2015-06-09T19:54:59Z    307   \n",
       "300  29100          NaN  2008-08-26T22:28:22Z                   NaN      5   \n",
       "400  36030       3750.0  2008-08-30T15:15:01Z                   NaN      0   \n",
       "500  44780       3475.0  2008-09-04T21:05:31Z                   NaN      2   \n",
       "600  52430       5201.0  2008-09-09T17:33:28Z                   NaN      0   \n",
       "700  59380       6140.0  2008-09-12T15:50:38Z                   NaN      4   \n",
       "800  65800    1115144.0  2008-09-15T19:10:13Z  2013-10-27T22:48:48Z     12   \n",
       "900  74190      12872.0  2008-09-16T16:22:29Z                   NaN      3   \n",
       "\n",
       "                                                 Title  \\\n",
       "0    SQLStatement.execute() - multiple queries one ...   \n",
       "100  What useful new ASP.NET features .NET Framewor...   \n",
       "200                          Is Mono ready prime time?   \n",
       "300               How generating tests specifications?   \n",
       "400                          Yaws uses old config file   \n",
       "500  What's best way implement SQL script grant per...   \n",
       "600  SQL Server best way calculate datediff current...   \n",
       "700                      Wildcard Subdomain Exceptions   \n",
       "800  What's best HTML WYSISYG editor available web ...   \n",
       "900      Can one ASP.NET State Server Service cluster?   \n",
       "\n",
       "                                                  Body  \n",
       "0    I've written database generation script SQL wa...  \n",
       "100  I've kept date new features C# language it's m...  \n",
       "200  Has anyone used Mono, open source .NET impleme...  \n",
       "300  I came across printed article Bertrand Meyer s...  \n",
       "400  I'm developing web app Yaws 1.65 (installed ap...  \n",
       "500  What's best way implement SQL script grant sel...  \n",
       "600  I've got following rough structure: Object -> ...  \n",
       "700  I wildcard subdomain enabled dynamically parse...  \n",
       "800  There many different flavored HTML WYSIWYG edi...  \n",
       "900  We 4 server cluster running ASP.NET web applic...  "
      ]
     },
     "execution_count": 7,
     "metadata": {},
     "output_type": "execute_result"
    }
   ],
   "source": [
    "# Calculate dimensionality\n",
    "# questions_df.shape \n",
    "# answers_df.shape \n",
    "# tags_df.shape \n",
    "\n",
    "# Sample dataframe - uncomment to view\n",
    "questions_df.head(10)\n",
    "# answers_df.head(10)\n",
    "# tags_df.head(10)"
   ]
  },
  {
   "cell_type": "markdown",
   "metadata": {
    "_cell_guid": "f482bde7-a597-46aa-93e1-a12a3de0f3d9",
    "_uuid": "0f5ab582a29b7b8363ba062acd23e9d8456a568d"
   },
   "source": [
    "** Make a TF-IDF word dictionary (for 5 questions) **"
   ]
  },
  {
   "cell_type": "code",
   "execution_count": 8,
   "metadata": {
    "_cell_guid": "3fee662f-5d5b-4e04-b956-a2657753fbd7",
    "_uuid": "8e79d9a90ca959d77ce7b368e750999b6ed2dd45"
   },
   "outputs": [
    {
     "name": "stdout",
     "output_type": "stream",
     "text": [
      "Top words in question 1\n",
      "\tWord: integer, TF-IDF: 0.04581\n",
      "\tWord: varchar, TF-IDF: 0.02863\n",
      "\tWord: var, TF-IDF: 0.02863\n",
      "Top words in question 2\n",
      "\tWord: features, TF-IDF: 0.0561\n",
      "\tWord: 1, TF-IDF: 0.0374\n",
      "\tWord: ASP.NET, TF-IDF: 0.0374\n",
      "Top words in question 3\n",
      "\tWord: Mono, TF-IDF: 0.03818\n",
      "\tWord: compatible, TF-IDF: 0.03818\n",
      "\tWord: enough, TF-IDF: 0.03818\n",
      "Top words in question 4\n",
      "\tWord: tests, TF-IDF: 0.05236\n",
      "\tWord: specifications, TF-IDF: 0.05236\n",
      "\tWord: How, TF-IDF: 0.05236\n",
      "Top words in question 5\n",
      "\tWord: old, TF-IDF: 0.02427\n",
      "\tWord: config, TF-IDF: 0.02427\n",
      "\tWord: back, TF-IDF: 0.02427\n"
     ]
    }
   ],
   "source": [
    "i=1\n",
    "tfidf_dict={}\n",
    "bloblist=[]\n",
    "\n",
    "for index, row in questions_df.iterrows():\n",
    "    bloblist.append(tb(row[6]))\n",
    "    if i==5:\n",
    "        break\n",
    "    i+=1\n",
    "\n",
    "for i, blob in enumerate(bloblist):\n",
    "    print(\"Top words in question {}\".format(i + 1))\n",
    "    scores = {word: tfidf(word, blob, bloblist) for word in blob.words}\n",
    "    sorted_words = sorted(scores.items(), key=lambda x: x[1], reverse=True)\n",
    "    for word, score in sorted_words[:3]:\n",
    "        print(\"\\tWord: {}, TF-IDF: {}\".format(word, round(score, 5)))\n",
    "        tfidf_dict[word]=round(score, 5)"
   ]
  },
  {
   "cell_type": "markdown",
   "metadata": {
    "_cell_guid": "249a37ec-c8b1-42b2-bf91-1c6d34ef933b",
    "_kg_hide-output": true,
    "_uuid": "f625c48f7a026b75f682034b5a2c3519c3e3e18c"
   },
   "source": [
    "** Sample TF-IDF dictionary **"
   ]
  },
  {
   "cell_type": "code",
   "execution_count": 9,
   "metadata": {
    "_cell_guid": "2c274b47-d85d-4480-b0cb-ea4c9e67bc0c",
    "_uuid": "072ba4261308b5b8db96a9b639cec8a31ccf8fac"
   },
   "outputs": [
    {
     "name": "stdout",
     "output_type": "stream",
     "text": [
      "integer 0.04581\n",
      "varchar 0.02863\n",
      "var 0.02863\n",
      "features 0.0561\n",
      "1 0.0374\n",
      "ASP.NET 0.0374\n",
      "Mono 0.03818\n",
      "compatible 0.03818\n",
      "enough 0.03818\n",
      "tests 0.05236\n",
      "specifications 0.05236\n",
      "How 0.05236\n",
      "old 0.02427\n",
      "config 0.02427\n",
      "back 0.02427\n"
     ]
    }
   ],
   "source": [
    "for k, v in tfidf_dict.items():\n",
    "    print(k, v)"
   ]
  },
  {
   "cell_type": "markdown",
   "metadata": {
    "_cell_guid": "174e62d1-6369-4536-af85-c84bb7f6e97e",
    "_uuid": "4caebf00dc4249f61318851ebbb22a8fc57b7718"
   },
   "source": [
    "# Initial analysis"
   ]
  },
  {
   "cell_type": "markdown",
   "metadata": {
    "_cell_guid": "37fb0317-3045-463b-98fb-35c18792c318",
    "_uuid": "abcb6de413b8679b885d089778b4d162866988a8"
   },
   "source": [
    "** Top 10 most common tags **"
   ]
  },
  {
   "cell_type": "code",
   "execution_count": 10,
   "metadata": {
    "_active": false,
    "_cell_guid": "d399d256-b1d6-97ff-7f95-512fcee92649",
    "_uuid": "9bbee08860c0f9d90c58025987af029a6c726316"
   },
   "outputs": [
    {
     "data": {
      "image/png": "[encoded data removed]",
      "text/plain": [
       "<matplotlib.figure.Figure at 0x7f652edc7e80>"
      ]
     },
     "metadata": {},
     "output_type": "display_data"
    }
   ],
   "source": [
    "tags_tally = collections.Counter(tags_df['Tag'])\n",
    "\n",
    "# x = tag name, y = tag frequency\n",
    "x, y = zip(*tags_tally.most_common(10))\n",
    "\n",
    "colormap = plt.cm.gist_ncar #nipy_spectral, Set1,Paired  \n",
    "colors = [colormap(i) for i in np.linspace(0, 0.8,50)]   \n",
    "\n",
    "area = [i/50 for i in list(y)]   # 0 to 15 point radiuses\n",
    "plt.figure(figsize=(8,8))\n",
    "plt.ylabel(\"Frequency\")\n",
    "plt.title(\"Top 10 most common tags\")\n",
    "for i in range(len(y)):\n",
    "        plt.plot(i,y[i], marker='v', linestyle='',ms=area[i],label=x[i])\n",
    "\n",
    "plt.legend(numpoints=1)\n",
    "plt.show()"
   ]
  },
  {
   "cell_type": "markdown",
   "metadata": {
    "_active": false,
    "_cell_guid": "72d35361-c7e9-f368-0989-9da02ebaa7e9",
    "_uuid": "f83fa0af87b86bd4c477a4b3aef619c366b92a15"
   },
   "source": [
    "![](http://)![](http://)**Distribution  - number of answers per question**"
   ]
  },
  {
   "cell_type": "code",
   "execution_count": 11,
   "metadata": {
    "_active": false,
    "_cell_guid": "e4dd12dd-e038-38e6-946c-5c0c0c6db5b8",
    "_uuid": "be9ca5370b1c4f2a473132de7128b3ff2b1b8347"
   },
   "outputs": [
    {
     "data": {
      "image/png": "[encoded data removed]",
      "text/plain": [
       "<matplotlib.figure.Figure at 0x7f650842ef60>"
      ]
     },
     "metadata": {},
     "output_type": "display_data"
    }
   ],
   "source": [
    "ans_per_question = collections.Counter(answers_df['ParentId'])\n",
    "answerid,noAnswers= zip(*ans_per_question.most_common())\n",
    "\n",
    "N=50\n",
    "plt.bar(range(N), noAnswers[:N], align='center', alpha=0.7)\n",
    "#plt.xticks(y_pos, objects)\n",
    "\n",
    "plt.ylabel('Number of Answers per Question')\n",
    "plt.xlabel('Question Id')\n",
    "plt.title('Distribution of Answers per question ')\n",
    "plt.text(10,4,\"Average answers per question: \"+str(math.floor((np.mean(noAnswers)))))\n",
    "\n",
    "plt.show()"
   ]
  }
 ],
 "metadata": {
  "kernelspec": {
   "display_name": "Python 3",
   "language": "python",
   "name": "python3"
  },
  "language_info": {
   "codemirror_mode": {
    "name": "ipython",
    "version": 3
   },
   "file_extension": ".py",
   "mimetype": "text/x-python",
   "name": "python",
   "nbconvert_exporter": "python",
   "pygments_lexer": "ipython3",
   "version": "3.6.2"
  }
 },
 "nbformat": 4,
 "nbformat_minor": 1
}

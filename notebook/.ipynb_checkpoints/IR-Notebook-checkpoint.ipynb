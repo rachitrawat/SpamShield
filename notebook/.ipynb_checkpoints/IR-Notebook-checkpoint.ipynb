{
 "cells": [
  {
   "cell_type": "markdown",
   "metadata": {},
   "source": [
    "## Setup Environment"
   ]
  },
  {
   "cell_type": "code",
   "execution_count": null,
   "metadata": {
    "collapsed": true
   },
   "outputs": [],
   "source": [
    "# load required packages\n",
    "\n",
    "# for creating dataframes from csv datasets\n",
    "import pandas as pd\n",
    "\n",
    "# for counting\n",
    "import collections\n",
    "\n",
    "# for scientific computing\n",
    "import numpy as np\n",
    "import math\n",
    "\n",
    "# for plotting graphs\n",
    "import matplotlib.pyplot as plt\n",
    "import matplotlib.cm as cm\n",
    "# magic function\n",
    "%matplotlib inline\n",
    "\n",
    "# kaggle - data set files are available in the \"../input/\" directory\n",
    "dataset_dir = \"../input/\"\n",
    "dataset_dir_questions = \"Questions.csv\"\n",
    "dataset_dir_answers = \"Answers.csv\"\n",
    "dataset_dir_tags = \"Tags.csv\"\n",
    "\n",
    "# for offline run\n",
    "# dataset_dir = \"/home/su/Downloads/stacksample\"\n",
    "\n",
    "# list the files in the dataset directory\n",
    "from subprocess import check_output\n",
    "print(check_output([\"ls\", dataset_dir]).decode(\"utf8\"))"
   ]
  },
  {
   "cell_type": "markdown",
   "metadata": {},
   "source": [
    "## pandas - load CSV into dataframe"
   ]
  },
  {
   "cell_type": "code",
   "execution_count": null,
   "metadata": {
    "collapsed": true
   },
   "outputs": [],
   "source": [
    "# Read CSV\n",
    "\n",
    "# Dimensionality - (rows, columns)\n",
    "\n",
    "# (1264216, 7) \n",
    "questions_df = pd.read_csv(dataset_dir+dataset_dir_questions, encoding='latin1')\n",
    "\n",
    "# (2014516, 6)\n",
    "answers_df = pd.read_csv(dataset_dir+dataset_dir_answers, encoding='latin1')\n",
    "\n",
    "# (3750994, 2)\n",
    "tags_df = pd.read_csv(dataset_dir+dataset_dir_tags, encoding='latin1')\n",
    "\n",
    "# Calculate dimensionality\n",
    "# questions_df.shape \n",
    "# answers_df.shape \n",
    "# tags_df.shape \n",
    "\n",
    "# Sample dataframe - uncomment to view\n",
    "# questions_df.head(10) \n",
    "# answers_df.head(10)\n",
    "# tags_df.head(10) "
   ]
  },
  {
   "cell_type": "markdown",
   "metadata": {},
   "source": [
    "## Top 10 most common tags"
   ]
  },
  {
   "cell_type": "code",
   "execution_count": null,
   "metadata": {},
   "outputs": [],
   "source": [
    "tags_tally = collections.Counter(tags_df['Tag'])\n",
    "\n",
    "# x = tag name, y = tag frequency\n",
    "x, y = zip(*tags_tally.most_common(10))\n",
    "\n",
    "colormap = plt.cm.gist_ncar #nipy_spectral, Set1,Paired  \n",
    "colors = [colormap(i) for i in np.linspace(0, 0.8,50)]   \n",
    "\n",
    "area = [i/5000 for i in list(y)]   # 0 to 15 point radiuses\n",
    "plt.figure(figsize=(8,8))\n",
    "plt.ylabel(\"Frequency\")\n",
    "plt.title(\"Top 10 most common tags\")\n",
    "for i in range(len(y)):\n",
    "        plt.plot(i,y[i], marker='v', linestyle='',ms=area[i],label=x[i])\n",
    "\n",
    "plt.legend(numpoints=1)\n",
    "plt.show()"
   ]
  },
  {
   "cell_type": "code",
   "execution_count": null,
   "metadata": {},
   "outputs": [],
   "source": []
  }
 ],
 "metadata": {
  "kernelspec": {
   "display_name": "Python 3",
   "language": "python",
   "name": "python3"
  },
  "language_info": {
   "codemirror_mode": {
    "name": "ipython",
    "version": 3
   },
   "file_extension": ".py",
   "mimetype": "text/x-python",
   "name": "python",
   "nbconvert_exporter": "python",
   "pygments_lexer": "ipython3",
   "version": "3.6.2"
  }
 },
 "nbformat": 4,
 "nbformat_minor": 2
}

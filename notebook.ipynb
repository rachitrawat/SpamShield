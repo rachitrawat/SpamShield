{
 "cells": [
  {
   "cell_type": "markdown",
   "metadata": {
    "_cell_guid": "8f4aa826-8c88-4323-86f5-623ec4cfb9c1",
    "_uuid": "e04c72c962d9cdfc604a61b1ee23bd46f53661a7"
   },
   "source": [
    "** Objective: ** \n",
    "** To develop a statistical model for predicting whether questions will be upvoted, downvoted, or closed based on their text. ** \n",
    "** To predict how long questions will take to answer. **\n",
    "\n",
    "** Authors: Rachit Rawat, Rudradeep Guha, Vineet Nandkishore **"
   ]
  },
  {
   "cell_type": "markdown",
   "metadata": {
    "_cell_guid": "68edf668-861d-40f3-b0b6-d09ceb866a13",
    "_uuid": "315c15cd0dd3ccc54e4446934916313068ada317"
   },
   "source": [
    "# 0. Setup Environment"
   ]
  },
  {
   "cell_type": "code",
   "execution_count": 1,
   "metadata": {
    "_active": false,
    "_cell_guid": "2f3cc812-f944-6471-f7a3-cc2894482010",
    "_uuid": "738b617fca8b49b678e3b9c70f7b272564eff0b2"
   },
   "outputs": [
    {
     "name": "stdout",
     "output_type": "stream",
     "text": [
      "Answers.csv\n",
      "Questions.csv\n",
      "Tags.csv\n",
      "\n"
     ]
    }
   ],
   "source": [
    "# load required packages\n",
    "\n",
    "# for creating dataframes from csv datasets\n",
    "import pandas as pd\n",
    "\n",
    "# for regular expressions\n",
    "import re\n",
    "\n",
    "# for stripping stop words\n",
    "from nltk.corpus import stopwords\n",
    "\n",
    "# for TF-IDF\n",
    "from textblob import TextBlob as tb\n",
    "\n",
    "# for removing HTML tags from text body\n",
    "from html.parser import HTMLParser\n",
    "\n",
    "# for counting\n",
    "import collections\n",
    "\n",
    "# for scientific computing\n",
    "import numpy as np\n",
    "import math\n",
    "\n",
    "# for plotting graphs\n",
    "import matplotlib.pyplot as plt\n",
    "import matplotlib.cm as cm\n",
    "# magic function\n",
    "%matplotlib inline\n",
    "\n",
    "# kaggle - data set files are available in the \"../input/\" directory\n",
    "dataset_dir = \"../input/\"\n",
    "dataset_dir_questions = \"Questions.csv\"\n",
    "dataset_dir_answers = \"Answers.csv\"\n",
    "dataset_dir_tags = \"Tags.csv\"\n",
    "\n",
    "# for offline run\n",
    "# dataset_dir = \"/home/su/Downloads/stacksample\"\n",
    "\n",
    "# list the files in the dataset directory\n",
    "from subprocess import check_output\n",
    "print(check_output([\"ls\", dataset_dir]).decode(\"utf8\"))\n",
    "\n",
    "cachedStopWords = stopwords.words(\"english\")\n",
    "\n"
   ]
  },
  {
   "cell_type": "markdown",
   "metadata": {
    "_cell_guid": "bf416f93-b382-45f4-8d8f-7665d2e56ba8",
    "_uuid": "daa792f1113572ee69d54458edc6308f281a61c9"
   },
   "source": [
    "** 0.1 HTML tags Stripper class **"
   ]
  },
  {
   "cell_type": "code",
   "execution_count": 2,
   "metadata": {
    "_cell_guid": "bddb2f84-5616-4abd-90b0-5211e6c3ab05",
    "_uuid": "9e8575730117592534ae5bb427eb71f5b64dcca0",
    "collapsed": true
   },
   "outputs": [],
   "source": [
    "class MLStripper(HTMLParser):\n",
    "    def __init__(self):\n",
    "        self.reset()\n",
    "        self.strict = False\n",
    "        self.convert_charrefs= True\n",
    "        self.fed = []\n",
    "    def handle_data(self, d):\n",
    "        self.fed.append(d)\n",
    "    def get_data(self):\n",
    "        return ''.join(self.fed)\n",
    "\n",
    "def strip_tags(html):\n",
    "    s = MLStripper()\n",
    "    s.feed(html)\n",
    "    return s.get_data()"
   ]
  },
  {
   "cell_type": "markdown",
   "metadata": {
    "_cell_guid": "5f92be6e-b5f6-4c3c-a66c-ead9a1d91838",
    "_uuid": "b6c01c8410eea1077cab7bb41980f59b453af8ee"
   },
   "source": [
    "** 0.2 TF-IDF helper fucntions **"
   ]
  },
  {
   "cell_type": "code",
   "execution_count": 3,
   "metadata": {
    "_cell_guid": "bbc860ac-d845-47eb-9492-50d7cd2cf56b",
    "_uuid": "0f25bcb2bbaeed423173739009723f46c0f23106",
    "collapsed": true
   },
   "outputs": [],
   "source": [
    "# tf(word, blob) computes \"term frequency\" which is the number of times \n",
    "# a word appears in a document blob,normalized by dividing by \n",
    "# the total number of words in blob. \n",
    "# We use TextBlob for breaking up the text into words and getting the word counts.\n",
    "def tf(word, blob):\n",
    "    return blob.words.count(word) / len(blob.words)\n",
    "\n",
    "# n_containing(word, bloblist) returns the number of documents containing word.\n",
    "# A generator expression is passed to the sum() function.\n",
    "def n_containing(word, bloblist):\n",
    "    return sum(1 for blob in bloblist if word in blob.words)\n",
    "\n",
    "# idf(word, bloblist) computes \"inverse document frequency\" which measures how common \n",
    "# a word is among all documents in bloblist. \n",
    "# The more common a word is, the lower its idf. \n",
    "# We take the ratio of the total number of documents \n",
    "# to the number of documents containing word, then take the log of that. \n",
    "# Add 1 to the divisor to prevent division by zero.\n",
    "def idf(word, bloblist):\n",
    "    return math.log(len(bloblist) / (1 + n_containing(word, bloblist)))\n",
    "\n",
    "# tfidf(word, blob, bloblist) computes the TF-IDF score. \n",
    "# It is simply the product of tf and idf.\n",
    "def tfidf(word, blob, bloblist):\n",
    "    return tf(word, blob) * idf(word, bloblist)"
   ]
  },
  {
   "cell_type": "markdown",
   "metadata": {
    "_cell_guid": "44554c34-04bb-42c7-b694-ed203fd3e8f9",
    "_uuid": "f53ca9faab54e28f4c1a4cb78d90a707cf19d078"
   },
   "source": [
    "** 0.3 Normalizer function **\n",
    "* strip HTML tags\n",
    "* strip stop words and symbols \n",
    "* convert to lowercase\n",
    "* strip single characters\n",
    "* strip words that are all numbers "
   ]
  },
  {
   "cell_type": "code",
   "execution_count": 4,
   "metadata": {
    "_cell_guid": "c4b5fa6f-ba9b-4ea8-9794-7769225fe757",
    "_uuid": "b959a2fd60e3ad44df3b35fb16a40efebe1df60e",
    "collapsed": true
   },
   "outputs": [],
   "source": [
    "def normalize(str):\n",
    "    return ' '.join([word for word in re.sub(r'[^\\w]', ' ', strip_tags(str)).lower().split() if word not in cachedStopWords and len(word) > 1 and not word.isdigit()])\n"
   ]
  },
  {
   "cell_type": "markdown",
   "metadata": {
    "_active": true,
    "_cell_guid": "4bb24fa7-fa47-c351-bebe-d6ca025696fb",
    "_uuid": "dc0f25079efd80085f22006b059b99291f50c974"
   },
   "source": [
    "# 1. Preprocessing\n",
    "**1.1 pandas - load CSV into dataframe **\n"
   ]
  },
  {
   "cell_type": "code",
   "execution_count": 5,
   "metadata": {
    "_active": false,
    "_cell_guid": "6443555a-49dd-1457-22cf-6e09fe9a6798",
    "_uuid": "a422f0c759254e4c9068ae062ef186df73947bb6",
    "collapsed": true
   },
   "outputs": [],
   "source": [
    "# Read CSV\n",
    "\n",
    "# Original Dimensionality - (rows, columns)\n",
    "\n",
    "# (1264216, 7) \n",
    "# Columns (Id, OwnerUserId, CreationDate, ClosedDate, Score, Title, Body)\n",
    "# frame every 1000th question (resource restraints)\n",
    "questions_df = pd.read_csv(dataset_dir+dataset_dir_questions, encoding='latin1').iloc[::10000, :]\n",
    "\n",
    "# (2014516, 6)\n",
    "# Columns (Id, OwnerUserId, CreationDate, ParentId, Score, Body)\n",
    "# frame every 1000th answer (resource restraints)\n",
    "answers_df = pd.read_csv(dataset_dir+dataset_dir_answers, encoding='latin1').iloc[::1000, :]\n",
    "\n",
    "# (3750994, 2)\n",
    "# Columns (Id, Tag)\n",
    "# frame every 1000th tag (resource restraints)\n",
    "tags_df = pd.read_csv(dataset_dir+dataset_dir_tags, encoding='latin1').iloc[::1000, :]"
   ]
  },
  {
   "cell_type": "markdown",
   "metadata": {
    "_cell_guid": "2416fd35-bbb8-46e2-8396-425103b3b1dd",
    "_uuid": "aa9597f19c27e04d29c58839c540c1c4ce697ace"
   },
   "source": [
    "**1.2 Sample dataframe**"
   ]
  },
  {
   "cell_type": "code",
   "execution_count": 6,
   "metadata": {
    "_cell_guid": "eb9d8dcb-e632-4e7c-a4a7-e94ae5cc5f24",
    "_uuid": "3a88a894ab1d157e272ed7c27728d06ff44b5ad7"
   },
   "outputs": [
    {
     "data": {
      "text/html": [
       "<div>\n",
       "<style>\n",
       "    .dataframe thead tr:only-child th {\n",
       "        text-align: right;\n",
       "    }\n",
       "\n",
       "    .dataframe thead th {\n",
       "        text-align: left;\n",
       "    }\n",
       "\n",
       "    .dataframe tbody tr th {\n",
       "        vertical-align: top;\n",
       "    }\n",
       "</style>\n",
       "<table border=\"1\" class=\"dataframe\">\n",
       "  <thead>\n",
       "    <tr style=\"text-align: right;\">\n",
       "      <th></th>\n",
       "      <th>Id</th>\n",
       "      <th>OwnerUserId</th>\n",
       "      <th>CreationDate</th>\n",
       "      <th>ClosedDate</th>\n",
       "      <th>Score</th>\n",
       "      <th>Title</th>\n",
       "      <th>Body</th>\n",
       "    </tr>\n",
       "  </thead>\n",
       "  <tbody>\n",
       "    <tr>\n",
       "      <th>0</th>\n",
       "      <td>80</td>\n",
       "      <td>26.0</td>\n",
       "      <td>2008-08-01T13:57:07Z</td>\n",
       "      <td>NaN</td>\n",
       "      <td>26</td>\n",
       "      <td>SQLStatement.execute() - multiple queries in o...</td>\n",
       "      <td>&lt;p&gt;I've written a database generation script i...</td>\n",
       "    </tr>\n",
       "    <tr>\n",
       "      <th>10000</th>\n",
       "      <td>637960</td>\n",
       "      <td>76691.0</td>\n",
       "      <td>2009-03-12T10:06:15Z</td>\n",
       "      <td>NaN</td>\n",
       "      <td>0</td>\n",
       "      <td>Continuous build with .NET and Java projects o...</td>\n",
       "      <td>&lt;p&gt;Is it possible to set up continuous build o...</td>\n",
       "    </tr>\n",
       "    <tr>\n",
       "      <th>20000</th>\n",
       "      <td>1114610</td>\n",
       "      <td>83846.0</td>\n",
       "      <td>2009-07-11T20:47:14Z</td>\n",
       "      <td>NaN</td>\n",
       "      <td>11</td>\n",
       "      <td>WiX: Installing Service as LocalService</td>\n",
       "      <td>&lt;p&gt;I am trying to get my application an instal...</td>\n",
       "    </tr>\n",
       "    <tr>\n",
       "      <th>30000</th>\n",
       "      <td>1549760</td>\n",
       "      <td>129701.0</td>\n",
       "      <td>2009-10-11T03:21:03Z</td>\n",
       "      <td>NaN</td>\n",
       "      <td>7</td>\n",
       "      <td>what language was cybersyn/cyberstride impleme...</td>\n",
       "      <td>&lt;p&gt;I am aware that it was implemented on the I...</td>\n",
       "    </tr>\n",
       "    <tr>\n",
       "      <th>40000</th>\n",
       "      <td>1971800</td>\n",
       "      <td>18853.0</td>\n",
       "      <td>2009-12-28T22:03:14Z</td>\n",
       "      <td>NaN</td>\n",
       "      <td>0</td>\n",
       "      <td>javac: package not found error</td>\n",
       "      <td>&lt;p&gt;I'm trying to compile a java file which imp...</td>\n",
       "    </tr>\n",
       "    <tr>\n",
       "      <th>50000</th>\n",
       "      <td>2372480</td>\n",
       "      <td>261192.0</td>\n",
       "      <td>2010-03-03T15:23:53Z</td>\n",
       "      <td>NaN</td>\n",
       "      <td>1</td>\n",
       "      <td>Why do some pages stall? (Ad Related)</td>\n",
       "      <td>&lt;p&gt;I notice on bad quality websites with ads a...</td>\n",
       "    </tr>\n",
       "    <tr>\n",
       "      <th>60000</th>\n",
       "      <td>2751370</td>\n",
       "      <td>285411.0</td>\n",
       "      <td>2010-05-01T20:00:40Z</td>\n",
       "      <td>NaN</td>\n",
       "      <td>0</td>\n",
       "      <td>I18n translation problem</td>\n",
       "      <td>&lt;p&gt;I'm about to translate all time zones to Ru...</td>\n",
       "    </tr>\n",
       "    <tr>\n",
       "      <th>70000</th>\n",
       "      <td>3118400</td>\n",
       "      <td>363654.0</td>\n",
       "      <td>2010-06-25T13:34:14Z</td>\n",
       "      <td>NaN</td>\n",
       "      <td>2</td>\n",
       "      <td>How to submit an ASP.NET MVC form using javasc...</td>\n",
       "      <td>&lt;p&gt;I have an ASP.NET MVC 2 form that is workin...</td>\n",
       "    </tr>\n",
       "    <tr>\n",
       "      <th>80000</th>\n",
       "      <td>3481640</td>\n",
       "      <td>420123.0</td>\n",
       "      <td>2010-08-14T01:33:39Z</td>\n",
       "      <td>NaN</td>\n",
       "      <td>8</td>\n",
       "      <td>Custom Environment Variables in PHP</td>\n",
       "      <td>&lt;p&gt;Is there a way to set a custom variable suc...</td>\n",
       "    </tr>\n",
       "    <tr>\n",
       "      <th>90000</th>\n",
       "      <td>3835460</td>\n",
       "      <td>450062.0</td>\n",
       "      <td>2010-09-30T23:14:09Z</td>\n",
       "      <td>NaN</td>\n",
       "      <td>0</td>\n",
       "      <td>how do i solve a data conflict between string ...</td>\n",
       "      <td>&lt;pre&gt;&lt;code&gt;#include&amp;lt;iostream&amp;gt;\\n#include&amp;...</td>\n",
       "    </tr>\n",
       "  </tbody>\n",
       "</table>\n",
       "</div>"
      ],
      "text/plain": [
       "            Id  OwnerUserId          CreationDate ClosedDate  Score  \\\n",
       "0           80         26.0  2008-08-01T13:57:07Z        NaN     26   \n",
       "10000   637960      76691.0  2009-03-12T10:06:15Z        NaN      0   \n",
       "20000  1114610      83846.0  2009-07-11T20:47:14Z        NaN     11   \n",
       "30000  1549760     129701.0  2009-10-11T03:21:03Z        NaN      7   \n",
       "40000  1971800      18853.0  2009-12-28T22:03:14Z        NaN      0   \n",
       "50000  2372480     261192.0  2010-03-03T15:23:53Z        NaN      1   \n",
       "60000  2751370     285411.0  2010-05-01T20:00:40Z        NaN      0   \n",
       "70000  3118400     363654.0  2010-06-25T13:34:14Z        NaN      2   \n",
       "80000  3481640     420123.0  2010-08-14T01:33:39Z        NaN      8   \n",
       "90000  3835460     450062.0  2010-09-30T23:14:09Z        NaN      0   \n",
       "\n",
       "                                                   Title  \\\n",
       "0      SQLStatement.execute() - multiple queries in o...   \n",
       "10000  Continuous build with .NET and Java projects o...   \n",
       "20000            WiX: Installing Service as LocalService   \n",
       "30000  what language was cybersyn/cyberstride impleme...   \n",
       "40000                     javac: package not found error   \n",
       "50000              Why do some pages stall? (Ad Related)   \n",
       "60000                           I18n translation problem   \n",
       "70000  How to submit an ASP.NET MVC form using javasc...   \n",
       "80000                Custom Environment Variables in PHP   \n",
       "90000  how do i solve a data conflict between string ...   \n",
       "\n",
       "                                                    Body  \n",
       "0      <p>I've written a database generation script i...  \n",
       "10000  <p>Is it possible to set up continuous build o...  \n",
       "20000  <p>I am trying to get my application an instal...  \n",
       "30000  <p>I am aware that it was implemented on the I...  \n",
       "40000  <p>I'm trying to compile a java file which imp...  \n",
       "50000  <p>I notice on bad quality websites with ads a...  \n",
       "60000  <p>I'm about to translate all time zones to Ru...  \n",
       "70000  <p>I have an ASP.NET MVC 2 form that is workin...  \n",
       "80000  <p>Is there a way to set a custom variable suc...  \n",
       "90000  <pre><code>#include&lt;iostream&gt;\\n#include&...  "
      ]
     },
     "execution_count": 6,
     "metadata": {},
     "output_type": "execute_result"
    }
   ],
   "source": [
    "# Calculate dimensionality\n",
    "# questions_df.shape \n",
    "# answers_df.shape \n",
    "# tags_df.shape \n",
    "\n",
    "# Sample dataframe - uncomment to view\n",
    "questions_df.head(10)\n",
    "# answers_df.head(10)\n",
    "# tags_df.head(10) "
   ]
  },
  {
   "cell_type": "markdown",
   "metadata": {
    "_cell_guid": "f55dafc0-9c39-4779-9284-c353fbe60502",
    "_uuid": "02ffa6c0c8ffa27470fd4db06f3e249127425818"
   },
   "source": [
    "**1.3 Sample dataframe before normalization **"
   ]
  },
  {
   "cell_type": "code",
   "execution_count": 7,
   "metadata": {
    "_cell_guid": "a45e1e38-9442-41dd-8b6d-27fe8a228b1a",
    "_uuid": "50860684ebdf70a683f969ab09dcb69f591f803d"
   },
   "outputs": [
    {
     "data": {
      "text/html": [
       "<div>\n",
       "<style>\n",
       "    .dataframe thead tr:only-child th {\n",
       "        text-align: right;\n",
       "    }\n",
       "\n",
       "    .dataframe thead th {\n",
       "        text-align: left;\n",
       "    }\n",
       "\n",
       "    .dataframe tbody tr th {\n",
       "        vertical-align: top;\n",
       "    }\n",
       "</style>\n",
       "<table border=\"1\" class=\"dataframe\">\n",
       "  <thead>\n",
       "    <tr style=\"text-align: right;\">\n",
       "      <th></th>\n",
       "      <th>Title</th>\n",
       "      <th>Body</th>\n",
       "    </tr>\n",
       "  </thead>\n",
       "  <tbody>\n",
       "    <tr>\n",
       "      <th>0</th>\n",
       "      <td>SQLStatement.execute() - multiple queries in o...</td>\n",
       "      <td>&lt;p&gt;I've written a database generation script i...</td>\n",
       "    </tr>\n",
       "    <tr>\n",
       "      <th>10000</th>\n",
       "      <td>Continuous build with .NET and Java projects o...</td>\n",
       "      <td>&lt;p&gt;Is it possible to set up continuous build o...</td>\n",
       "    </tr>\n",
       "    <tr>\n",
       "      <th>20000</th>\n",
       "      <td>WiX: Installing Service as LocalService</td>\n",
       "      <td>&lt;p&gt;I am trying to get my application an instal...</td>\n",
       "    </tr>\n",
       "    <tr>\n",
       "      <th>30000</th>\n",
       "      <td>what language was cybersyn/cyberstride impleme...</td>\n",
       "      <td>&lt;p&gt;I am aware that it was implemented on the I...</td>\n",
       "    </tr>\n",
       "    <tr>\n",
       "      <th>40000</th>\n",
       "      <td>javac: package not found error</td>\n",
       "      <td>&lt;p&gt;I'm trying to compile a java file which imp...</td>\n",
       "    </tr>\n",
       "    <tr>\n",
       "      <th>50000</th>\n",
       "      <td>Why do some pages stall? (Ad Related)</td>\n",
       "      <td>&lt;p&gt;I notice on bad quality websites with ads a...</td>\n",
       "    </tr>\n",
       "    <tr>\n",
       "      <th>60000</th>\n",
       "      <td>I18n translation problem</td>\n",
       "      <td>&lt;p&gt;I'm about to translate all time zones to Ru...</td>\n",
       "    </tr>\n",
       "    <tr>\n",
       "      <th>70000</th>\n",
       "      <td>How to submit an ASP.NET MVC form using javasc...</td>\n",
       "      <td>&lt;p&gt;I have an ASP.NET MVC 2 form that is workin...</td>\n",
       "    </tr>\n",
       "    <tr>\n",
       "      <th>80000</th>\n",
       "      <td>Custom Environment Variables in PHP</td>\n",
       "      <td>&lt;p&gt;Is there a way to set a custom variable suc...</td>\n",
       "    </tr>\n",
       "    <tr>\n",
       "      <th>90000</th>\n",
       "      <td>how do i solve a data conflict between string ...</td>\n",
       "      <td>&lt;pre&gt;&lt;code&gt;#include&amp;lt;iostream&amp;gt;\\n#include&amp;...</td>\n",
       "    </tr>\n",
       "  </tbody>\n",
       "</table>\n",
       "</div>"
      ],
      "text/plain": [
       "                                                   Title  \\\n",
       "0      SQLStatement.execute() - multiple queries in o...   \n",
       "10000  Continuous build with .NET and Java projects o...   \n",
       "20000            WiX: Installing Service as LocalService   \n",
       "30000  what language was cybersyn/cyberstride impleme...   \n",
       "40000                     javac: package not found error   \n",
       "50000              Why do some pages stall? (Ad Related)   \n",
       "60000                           I18n translation problem   \n",
       "70000  How to submit an ASP.NET MVC form using javasc...   \n",
       "80000                Custom Environment Variables in PHP   \n",
       "90000  how do i solve a data conflict between string ...   \n",
       "\n",
       "                                                    Body  \n",
       "0      <p>I've written a database generation script i...  \n",
       "10000  <p>Is it possible to set up continuous build o...  \n",
       "20000  <p>I am trying to get my application an instal...  \n",
       "30000  <p>I am aware that it was implemented on the I...  \n",
       "40000  <p>I'm trying to compile a java file which imp...  \n",
       "50000  <p>I notice on bad quality websites with ads a...  \n",
       "60000  <p>I'm about to translate all time zones to Ru...  \n",
       "70000  <p>I have an ASP.NET MVC 2 form that is workin...  \n",
       "80000  <p>Is there a way to set a custom variable suc...  \n",
       "90000  <pre><code>#include&lt;iostream&gt;\\n#include&...  "
      ]
     },
     "execution_count": 7,
     "metadata": {},
     "output_type": "execute_result"
    }
   ],
   "source": [
    "# Calculate dimensionality\n",
    "# questions_df.shape \n",
    "# answers_df.shape \n",
    "# tags_df.shape \n",
    "\n",
    "# Sample dataframe - uncomment to view\n",
    "questions_df.head(10).loc[:, 'Title':'Body']\n",
    "# answers_df.head(10).loc[:, 'Body':]\n",
    "# tags_df.head(10) "
   ]
  },
  {
   "cell_type": "markdown",
   "metadata": {
    "_cell_guid": "e11c5eb7-3399-48e4-8c19-9bc073390272",
    "_uuid": "fd95a0589a0bdf22c03b7f3fdb0efbf707fb0cd8"
   },
   "source": [
    "**1.4 Normalize text**"
   ]
  },
  {
   "cell_type": "code",
   "execution_count": 8,
   "metadata": {
    "_cell_guid": "91d123fe-3d1b-45a3-907e-d1eca1925d6c",
    "_uuid": "5723a2e056bc00fc2973e5928f212ad74bbd07a8",
    "collapsed": true
   },
   "outputs": [],
   "source": [
    "# Normalize question body and title\n",
    "for index, row in questions_df.iterrows():\n",
    "    questions_df.at[index, 'Body']= normalize(row[6])\n",
    "    questions_df.at[index, 'Title']= normalize(row[5])\n",
    "\n",
    "# Normalize answer body\n",
    "for index, row in answers_df.iterrows():\n",
    "    answers_df.at[index, 'Body']= normalize(row[5]) "
   ]
  },
  {
   "cell_type": "markdown",
   "metadata": {
    "_cell_guid": "44c8687c-7b3b-48c8-81c9-0038d4a672a8",
    "_uuid": "7913ddfa6a5c335641a4311189509e17368e1fe5"
   },
   "source": [
    "**1.5 Sample dataframe after normalization **"
   ]
  },
  {
   "cell_type": "code",
   "execution_count": 9,
   "metadata": {
    "_cell_guid": "acc88448-90fa-4fdd-a95e-af538becaeea",
    "_uuid": "45c5fb411d16418c06c0e1ee04edee51cac9295f"
   },
   "outputs": [
    {
     "data": {
      "text/html": [
       "<div>\n",
       "<style>\n",
       "    .dataframe thead tr:only-child th {\n",
       "        text-align: right;\n",
       "    }\n",
       "\n",
       "    .dataframe thead th {\n",
       "        text-align: left;\n",
       "    }\n",
       "\n",
       "    .dataframe tbody tr th {\n",
       "        vertical-align: top;\n",
       "    }\n",
       "</style>\n",
       "<table border=\"1\" class=\"dataframe\">\n",
       "  <thead>\n",
       "    <tr style=\"text-align: right;\">\n",
       "      <th></th>\n",
       "      <th>Title</th>\n",
       "      <th>Body</th>\n",
       "    </tr>\n",
       "  </thead>\n",
       "  <tbody>\n",
       "    <tr>\n",
       "      <th>0</th>\n",
       "      <td>sqlstatement execute multiple queries one stat...</td>\n",
       "      <td>written database generation script sql want ex...</td>\n",
       "    </tr>\n",
       "    <tr>\n",
       "      <th>10000</th>\n",
       "      <td>continuous build net java projects single machine</td>\n",
       "      <td>possible set continuous build projects written...</td>\n",
       "    </tr>\n",
       "    <tr>\n",
       "      <th>20000</th>\n",
       "      <td>wix installing service localservice</td>\n",
       "      <td>trying get application installer via wix exact...</td>\n",
       "    </tr>\n",
       "    <tr>\n",
       "      <th>30000</th>\n",
       "      <td>language cybersyn cyberstride implemented</td>\n",
       "      <td>aware implemented ibm mainframe architecture a...</td>\n",
       "    </tr>\n",
       "    <tr>\n",
       "      <th>40000</th>\n",
       "      <td>javac package found error</td>\n",
       "      <td>trying compile java file imports packages crea...</td>\n",
       "    </tr>\n",
       "    <tr>\n",
       "      <th>50000</th>\n",
       "      <td>pages stall ad related</td>\n",
       "      <td>notice bad quality websites ads piece site loa...</td>\n",
       "    </tr>\n",
       "    <tr>\n",
       "      <th>60000</th>\n",
       "      <td>i18n translation problem</td>\n",
       "      <td>translate time zones russian done things model...</td>\n",
       "    </tr>\n",
       "    <tr>\n",
       "      <th>70000</th>\n",
       "      <td>submit asp net mvc form using javascript still...</td>\n",
       "      <td>asp net mvc form working perfectly client side...</td>\n",
       "    </tr>\n",
       "    <tr>\n",
       "      <th>80000</th>\n",
       "      <td>custom environment variables php</td>\n",
       "      <td>way set custom variable environment_name apach...</td>\n",
       "    </tr>\n",
       "    <tr>\n",
       "      <th>90000</th>\n",
       "      <td>solve data conflict string infile open</td>\n",
       "      <td>include iostream include fstream include cstdl...</td>\n",
       "    </tr>\n",
       "  </tbody>\n",
       "</table>\n",
       "</div>"
      ],
      "text/plain": [
       "                                                   Title  \\\n",
       "0      sqlstatement execute multiple queries one stat...   \n",
       "10000  continuous build net java projects single machine   \n",
       "20000                wix installing service localservice   \n",
       "30000          language cybersyn cyberstride implemented   \n",
       "40000                          javac package found error   \n",
       "50000                             pages stall ad related   \n",
       "60000                           i18n translation problem   \n",
       "70000  submit asp net mvc form using javascript still...   \n",
       "80000                   custom environment variables php   \n",
       "90000             solve data conflict string infile open   \n",
       "\n",
       "                                                    Body  \n",
       "0      written database generation script sql want ex...  \n",
       "10000  possible set continuous build projects written...  \n",
       "20000  trying get application installer via wix exact...  \n",
       "30000  aware implemented ibm mainframe architecture a...  \n",
       "40000  trying compile java file imports packages crea...  \n",
       "50000  notice bad quality websites ads piece site loa...  \n",
       "60000  translate time zones russian done things model...  \n",
       "70000  asp net mvc form working perfectly client side...  \n",
       "80000  way set custom variable environment_name apach...  \n",
       "90000  include iostream include fstream include cstdl...  "
      ]
     },
     "execution_count": 9,
     "metadata": {},
     "output_type": "execute_result"
    }
   ],
   "source": [
    "# Calculate dimensionality\n",
    "# questions_df.shape \n",
    "# answers_df.shape \n",
    "# tags_df.shape \n",
    "\n",
    "# Sample dataframe - uncomment to view\n",
    "questions_df.head(10).loc[:, 'Title':'Body']\n",
    "# answers_df.head(10).loc[:, 'Body':]\n",
    "# tags_df.head(10) "
   ]
  },
  {
   "cell_type": "markdown",
   "metadata": {
    "_cell_guid": "f482bde7-a597-46aa-93e1-a12a3de0f3d9",
    "_uuid": "0f5ab582a29b7b8363ba062acd23e9d8456a568d"
   },
   "source": [
    "** 1.6 Calculate TF-IDF of words ** <br>\n",
    "Make a dictionary { word (key), posting list (value) } pair.  <br>\n",
    "Posting lists of a word contains its TF-IDF along with question ID."
   ]
  },
  {
   "cell_type": "code",
   "execution_count": 10,
   "metadata": {
    "_cell_guid": "3fee662f-5d5b-4e04-b956-a2657753fbd7",
    "_uuid": "8e79d9a90ca959d77ce7b368e750999b6ed2dd45"
   },
   "outputs": [
    {
     "name": "stdout",
     "output_type": "stream",
     "text": [
      "Top words in question ID 80\n",
      "\tWord: sqlstatement, TF-IDF: 0.17504\n",
      "\tWord: integer, TF-IDF: 0.15589\n",
      "\tWord: sqlconnection, TF-IDF: 0.15004\n",
      "Top words in question ID 637960\n",
      "\tWord: projects, TF-IDF: 0.36542\n",
      "\tWord: build, TF-IDF: 0.26973\n",
      "\tWord: machine, TF-IDF: 0.23669\n",
      "Top words in question ID 1114610\n",
      "\tWord: localservice, TF-IDF: 0.14192\n",
      "\tWord: service, TF-IDF: 0.13574\n",
      "\tWord: myprogramserviceinstaller, TF-IDF: 0.10644\n",
      "Top words in question ID 1549760\n",
      "\tWord: implemented, TF-IDF: 0.21201\n",
      "\tWord: ibm, TF-IDF: 0.15664\n",
      "\tWord: language, TF-IDF: 0.12207\n",
      "Top words in question ID 1971800\n",
      "\tWord: import, TF-IDF: 0.35821\n",
      "\tWord: java, TF-IDF: 0.31202\n",
      "\tWord: commchange, TF-IDF: 0.27985\n"
     ]
    }
   ],
   "source": [
    "tfidf_dict={}\n",
    "bloblist=[]\n",
    "idlist=[]\n",
    "\n",
    "for index, row in questions_df.iterrows():\n",
    "    # also append title to text body\n",
    "    bloblist.append(tb(row[6]+\" \"+row[5]))\n",
    "    idlist.append(row[0])\n",
    "\n",
    "for i, blob in enumerate(bloblist):\n",
    "    if i < 5:\n",
    "        print(\"Top words in question ID {}\".format(idlist[i]))\n",
    "    scores = {word: tfidf(word, blob, bloblist) for word in blob.words}\n",
    "    sorted_words = sorted(scores.items(), key=lambda x: x[1], reverse=True)\n",
    "    for word, score in sorted_words[:3]:\n",
    "        if i < 5:\n",
    "            print(\"\\tWord: {}, TF-IDF: {}\".format(word, round(score, 5)))\n",
    "        if word in tfidf_dict:\n",
    "            tfidf_dict[word].append([idlist[i],round(score, 5)])\n",
    "        else:\n",
    "            tfidf_dict[word] = [[idlist[i],round(score, 5)]]\n"
   ]
  },
  {
   "cell_type": "markdown",
   "metadata": {
    "_cell_guid": "249a37ec-c8b1-42b2-bf91-1c6d34ef933b",
    "_kg_hide-output": true,
    "_uuid": "f625c48f7a026b75f682034b5a2c3519c3e3e18c"
   },
   "source": [
    "**1.7 Sample dictionary **"
   ]
  },
  {
   "cell_type": "code",
   "execution_count": 11,
   "metadata": {
    "_cell_guid": "2c274b47-d85d-4480-b0cb-ea4c9e67bc0c",
    "_uuid": "072ba4261308b5b8db96a9b639cec8a31ccf8fac"
   },
   "outputs": [
    {
     "name": "stdout",
     "output_type": "stream",
     "text": [
      "sqlstatement [[80, 0.17504]]\n",
      "integer [[80, 0.15589]]\n",
      "sqlconnection [[80, 0.15004]]\n",
      "projects [[637960, 0.36542]]\n",
      "build [[637960, 0.26973], [39810190, 0.11059]]\n",
      "machine [[637960, 0.23669], [15133550, 0.19862]]\n",
      "localservice [[1114610, 0.14192]]\n",
      "service [[1114610, 0.13574], [38500300, 0.31764]]\n",
      "myprogramserviceinstaller [[1114610, 0.10644]]\n",
      "implemented [[1549760, 0.21201]]\n"
     ]
    }
   ],
   "source": [
    "i = 1\n",
    "for k, v in tfidf_dict.items():\n",
    "    print(k, v)\n",
    "    if i == 10:\n",
    "        break\n",
    "    i+=1"
   ]
  },
  {
   "cell_type": "code",
   "execution_count": 12,
   "metadata": {
    "_cell_guid": "0e77f88e-07d1-4d48-983c-e6f0d18a1fbd",
    "_uuid": "2111173b35fb4c71fd47a0a0324b0cfc725ab008",
    "collapsed": true
   },
   "outputs": [],
   "source": [
    "def predict(rawQ):\n",
    "    # normalize input question text and get unique terms\n",
    "    termList=list(set(normalize(rawQ).split()))\n",
    "    print(termList)\n",
    "    \n",
    "    for term in termList:\n",
    "        if term in tfidf_dict:\n",
    "            print(term,tfidf_dict[term])    "
   ]
  },
  {
   "cell_type": "code",
   "execution_count": 13,
   "metadata": {
    "_cell_guid": "b0d7dc85-95d5-4bd4-a7c0-444a8e71a003",
    "_uuid": "6059baf7775a02288825132d1c9f896e2f883f9e"
   },
   "outputs": [
    {
     "name": "stdout",
     "output_type": "stream",
     "text": [
      "['used', 'obj', 'things', 'solution', 'question', 'like', 'exists', 'firefox', 'surprised', 'way', 'clone', 'eval', 'javascript', 'parse', 'seen', 'stringify', 'recursive', 'flaws', 'copying', 'non', 'efficient', 'done', 'object', 'canonical', 'various', 'deep', 'supported', 'json', 'functions', 'efficiency', 'standard', 'uneval', 'also']\n",
      "javascript [[14155310, 0.2836]]\n",
      "object [[25115170, 0.12426]]\n"
     ]
    }
   ],
   "source": [
    "inputQ_title=\"What is the most efficient way to deep clone an object in JavaScript?\"\n",
    "inputQ_body=\"\"\"What is the most efficient way to clone a JavaScript object? \n",
    "I've seen obj = eval(uneval(o)); being used, \n",
    "but that's non-standard and only supported by Firefox.\n",
    "I've done things like obj = JSON.parse(JSON.stringify(o)); but question the efficiency. \n",
    "I've also seen recursive copying functions with various flaws. \n",
    "I'm surprised no canonical solution exists.\"\"\"\n",
    "predict(inputQ_title + \" \" + inputQ_body)"
   ]
  },
  {
   "cell_type": "markdown",
   "metadata": {
    "_cell_guid": "174e62d1-6369-4536-af85-c84bb7f6e97e",
    "_uuid": "4caebf00dc4249f61318851ebbb22a8fc57b7718"
   },
   "source": [
    "# Initial analysis"
   ]
  },
  {
   "cell_type": "markdown",
   "metadata": {
    "_cell_guid": "37fb0317-3045-463b-98fb-35c18792c318",
    "_uuid": "abcb6de413b8679b885d089778b4d162866988a8"
   },
   "source": [
    "** Top 10 most common tags **"
   ]
  },
  {
   "cell_type": "code",
   "execution_count": 14,
   "metadata": {
    "_active": false,
    "_cell_guid": "d399d256-b1d6-97ff-7f95-512fcee92649",
    "_uuid": "9bbee08860c0f9d90c58025987af029a6c726316"
   },
   "outputs": [
    {
     "data": {
      "image/png": "[encoded data removed]",
      "text/plain": [
       "<matplotlib.figure.Figure at 0x7fcb9ed718d0>"
      ]
     },
     "metadata": {},
     "output_type": "display_data"
    }
   ],
   "source": [
    "tags_tally = collections.Counter(tags_df['Tag'])\n",
    "\n",
    "# x = tag name, y = tag frequency\n",
    "x, y = zip(*tags_tally.most_common(10))\n",
    "\n",
    "colormap = plt.cm.gist_ncar #nipy_spectral, Set1,Paired  \n",
    "colors = [colormap(i) for i in np.linspace(0, 0.8,50)]   \n",
    "\n",
    "area = [i/3 for i in list(y)]   # 0 to 15 point radiuses\n",
    "plt.figure(figsize=(8,8))\n",
    "plt.ylabel(\"Frequency\")\n",
    "plt.title(\"Top 10 most common tags\")\n",
    "for i in range(len(y)):\n",
    "        plt.plot(i,y[i], marker='v', linestyle='',ms=area[i],label=x[i])\n",
    "\n",
    "plt.legend(numpoints=1)\n",
    "plt.show()"
   ]
  },
  {
   "cell_type": "markdown",
   "metadata": {
    "_active": false,
    "_cell_guid": "72d35361-c7e9-f368-0989-9da02ebaa7e9",
    "_uuid": "f83fa0af87b86bd4c477a4b3aef619c366b92a15"
   },
   "source": [
    "**Distribution  - number of answers per question**"
   ]
  },
  {
   "cell_type": "code",
   "execution_count": 15,
   "metadata": {
    "_active": false,
    "_cell_guid": "e4dd12dd-e038-38e6-946c-5c0c0c6db5b8",
    "_uuid": "be9ca5370b1c4f2a473132de7128b3ff2b1b8347"
   },
   "outputs": [
    {
     "data": {
      "image/png": "[encoded data removed]",
      "text/plain": [
       "<matplotlib.figure.Figure at 0x7fcb5a1abc18>"
      ]
     },
     "metadata": {},
     "output_type": "display_data"
    }
   ],
   "source": [
    "ans_per_question = collections.Counter(answers_df['ParentId'])\n",
    "answerid,noAnswers= zip(*ans_per_question.most_common())\n",
    "\n",
    "N=50\n",
    "plt.bar(range(N), noAnswers[:N], align='center', alpha=0.7)\n",
    "#plt.xticks(y_pos, objects)\n",
    "\n",
    "plt.ylabel('Number of Answers per Question')\n",
    "plt.xlabel('Question Id')\n",
    "plt.title('Distribution of Answers per question ')\n",
    "plt.text(10,1.5,\"Average answers per question: \"+str(math.floor((np.mean(noAnswers)))))\n",
    "\n",
    "plt.show()"
   ]
  }
 ],
 "metadata": {
  "kernelspec": {
   "display_name": "Python 3",
   "language": "python",
   "name": "python3"
  },
  "language_info": {
   "codemirror_mode": {
    "name": "ipython",
    "version": 3
   },
   "file_extension": ".py",
   "mimetype": "text/x-python",
   "name": "python",
   "nbconvert_exporter": "python",
   "pygments_lexer": "ipython3",
   "version": "3.6.2"
  }
 },
 "nbformat": 4,
 "nbformat_minor": 1
}
